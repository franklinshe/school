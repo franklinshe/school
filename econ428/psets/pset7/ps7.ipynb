{
 "cells": [
  {
   "cell_type": "markdown",
   "metadata": {},
   "source": [
    "# Problem Set 7\n",
    "\n",
    "Franklin She, Selina Ni"
   ]
  },
  {
   "cell_type": "markdown",
   "metadata": {},
   "source": [
    "## Problem 1\n"
   ]
  },
  {
   "cell_type": "markdown",
   "metadata": {},
   "source": [
    "\n",
    "### 1.\n",
    "\n",
    "If we only observe $(Y, \\tilde{X}, \\u{X})$, what we estimate is\n",
    "\n",
    "$$ Y = \\tilde{X}\\beta - V^1 \\beta + U $$\n",
    "\n",
    "Taking $\\tilde{U} = - V^1 \\beta + U$, we have\n",
    "\n",
    "$$ Y = \\tilde{X}\\beta + \\tilde{U} $$\n",
    "\n",
    "In this model, $\\u{X}$ is exogenous (covariance between $\\u{X}$ and the error term is zero) because of assumptions (a) - (d) and assuming $E[XU] = 0$.\n",
    "\n",
    "$$\n",
    "\\begin{aligned}\n",
    "Cov(\\u{X}, \\tilde{U}) &= Cov\\left(X + V^2, - V^1 \\beta + U\\right) \\\\\n",
    "&= -\\beta Cov(X, V^1) - \\beta Cov(V^2, V^1) + Cov(X, U) + Cov(V^2, U) \\\\\n",
    "&= 0\n",
    "\\end{aligned}\n",
    "$$\n",
    "\n",
    "In this model $\\u{X}$ is relevant (covariance between $\\u{X}$ and $\\tilde{X}$ is nonzero) because of assumption (b) and (d) and assuming $Var(X) > 0$.\n",
    "\n",
    "$$\n",
    "\\begin{aligned}\n",
    "Cov(\\u{X}, \\tilde{X}) &= Cov\\left(X + V^2, X + V^1\\right) \\\\\n",
    "&= Cov(X, X) + Cov(X, V^1) + Cov(V^2, X) + Cov(V^2, V^1) \\\\\n",
    "&= Var(x) \\\\\n",
    "& \\neq 0\n",
    "\\end{aligned}\n",
    "$$\n",
    "\n",
    "Therefore $\\u{X}$ is an instrument for $\\tilde{X}$ in this model."
   ]
  },
  {
   "cell_type": "markdown",
   "metadata": {},
   "source": [
    "### 2.\n",
    "\n",
    "#### (a)\n",
    "\n",
    "We can expect $\\beta^s > 0$ by the law of supply, and $\\beta^d < 0$ by the law of demand. It follows that we can expect $\\beta^d - \\beta^s < 0$.\n",
    "\n",
    "#### (b)\n",
    "\n",
    "Setting $Q^d(P) = Q^s(P)$:\n",
    "\n",
    "$$\n",
    "\\begin{aligned}\n",
    "    \\alpha^d + P \\beta^d + U^d &= \\alpha^s + P \\beta^s + Z \\gamma + U^s\\\\\n",
    "    P \\beta^d - P \\beta^s &= \\alpha^s - \\alpha^d + Z \\gamma + U^s - U^d \\\\\n",
    "    P &= \\frac{\\alpha^s - \\alpha^d + Z \\gamma + U^s - U^d}{\\beta^d - \\beta^s}\n",
    "\\end{aligned}\n",
    "$$\n",
    "\n",
    "#### (c)\n",
    "\n",
    "The model for demand, $Q^d(P) = \\alpha^d + P \\beta^d + U^d$, in equilibrium, becomes $Q^{eq} = \\alpha^d + P^{eq} \\beta^d + U^d$. Consider $Cov(P^{eq}, U^d)$.\n",
    "\n",
    "$$\n",
    "\\begin{aligned}\n",
    "    Cov(P^{eq}, U^d) &= Cov\\left(\\frac{\\alpha^s - \\alpha^d + Z \\gamma + U^s - U^d}{\\beta^d - \\beta^s}, U^d\\right) \\\\\n",
    "    &= - \\frac{1}{\\beta^d - \\beta^s} Var(U^d) \\\\\n",
    "    &\\neq 0\n",
    "\\end{aligned}\n",
    "$$\n",
    "\n",
    "Therefore, $P^{eq}$ is endogenous.\n",
    "\n",
    "#### (d)\n",
    "\n",
    "In the model for demand, $Z$ is exogenous (covariance between $Z$ and the error term is zero) because we assume $E[ZU^d] = 0$.\n",
    "\n",
    "In the model for demand, $Z$ is relevant (covariance between $Z$ and $P^{eq}$ is not zero), because we assume $\\gamma \\neq 0$ and $Var(Z) > 0$\n",
    "\n",
    "$$\n",
    "\\begin{aligned}\n",
    "    Cov(P^{eq}, Z) &= Cov\\left(\\frac{\\alpha^s - \\alpha^d + Z \\gamma + U^s - U^d}{\\beta^d - \\beta^s}, Z\\right) \\\\\n",
    "    &= \\frac{\\gamma}{\\beta^d - \\beta^s} Var(Z) \\\\\n",
    "    &\\neq 0\n",
    "\\end{aligned}\n",
    "$$\n",
    "\n",
    "Therefore $Z$ is an instrument for $P$ in the demand model.\n",
    "\n",
    "#### (e)\n",
    "\n",
    "In the model for supply, $Z$ is exogenous (covariance between $Z$ and the error term is zero) because we assume $E[ZU^s] = 0$.\n",
    "\n",
    "$Z$ remains relevant by the derivation in part (d), so $Z$ is also an instrument for $P$ in the supply model."
   ]
  },
  {
   "cell_type": "markdown",
   "metadata": {},
   "source": [
    "## Problem 2"
   ]
  },
  {
   "cell_type": "code",
   "execution_count": 1,
   "metadata": {},
   "outputs": [],
   "source": [
    "import numpy as np\n",
    "import statsmodels.api as sm\n",
    "import pandas as pd"
   ]
  },
  {
   "cell_type": "code",
   "execution_count": 3,
   "metadata": {},
   "outputs": [],
   "source": [
    "# 1.(a-c)\n",
    "\n",
    "def generate_simulation_data(n, beta1, beta2, beta3=0, beta4=0, gamma1=0, gamma2=0):\n",
    "    \"\"\"\n",
    "    Generate simulation data based on specified parameters.\n",
    "    \"\"\"\n",
    "    x2 = np.random.normal(0, 1, n)\n",
    "    v = np.random.normal(0, 0.1, n)\n",
    "    x1 = x2 + x2**2 * gamma1 + x2**5 * gamma2 + v\n",
    "    u = np.random.normal(0, 1, n)\n",
    "    y = x1*beta1 + x2*beta2 + x2**2*beta3 + np.sin(x2)*beta4 + u\n",
    "    \n",
    "    return y, x1, x2\n"
   ]
  },
  {
   "cell_type": "code",
   "execution_count": 27,
   "metadata": {},
   "outputs": [],
   "source": [
    "# 2.(a-c)\n",
    "\n",
    "def estimate_coefficients(y, x1, x2, verbose = False):\n",
    "    \"\"\"\n",
    "    Estimates coefficients and standard errors for unrestricted, restricted, and pretest regressions.\n",
    "    \"\"\"\n",
    "    results = {}\n",
    "\n",
    "    # Unrestricted Regression\n",
    "    X_unrestricted = sm.add_constant(np.column_stack((x1, x2)))\n",
    "    model_unrestricted = sm.OLS(y, X_unrestricted).fit()\n",
    "    results['unrestricted'] = {\n",
    "        'beta1': model_unrestricted.params[1],\n",
    "        'std_err': model_unrestricted.bse[1],\n",
    "        'ci': model_unrestricted.conf_int(alpha=0.05, cols=None)[1]\n",
    "    }\n",
    "\n",
    "    # Restricted Regression\n",
    "    X_restricted = sm.add_constant(x1)\n",
    "    model_restricted = sm.OLS(y, X_restricted).fit()\n",
    "    results['restricted'] = {\n",
    "        'beta1': model_restricted.params[1],\n",
    "        'std_err': model_restricted.bse[1],\n",
    "        'ci': model_restricted.conf_int(alpha=0.05, cols=None)[1]\n",
    "    }\n",
    "\n",
    "    # Pretest Regression\n",
    "    p_value = model_unrestricted.pvalues[2]  # Test for beta2 = 0 in unrestricted model\n",
    "    if p_value > 0.05:  # Using a significance level of 0.05\n",
    "        results['pretest'] = {\n",
    "            'beta1': results['restricted']['beta1'],\n",
    "            'std_err': results['restricted']['std_err'],\n",
    "            'ci': results['restricted']['ci'],\n",
    "            'model_selected': 'restricted'\n",
    "        }\n",
    "    else:\n",
    "        results['pretest'] = {\n",
    "            'beta1': results['unrestricted']['beta1'],\n",
    "            'std_err': results['unrestricted']['std_err'],\n",
    "            'ci': results['unrestricted']['ci'],\n",
    "            'model_selected': 'unrestricted'\n",
    "        }\n",
    "\n",
    "    if verbose:\n",
    "        print(model_unrestricted.summary())\n",
    "        print(model_restricted.summary())\n",
    "        print(f'p-value for pretest: {p_value}')\n",
    "\n",
    "    return results\n"
   ]
  },
  {
   "cell_type": "code",
   "execution_count": 15,
   "metadata": {},
   "outputs": [],
   "source": [
    "# 3.(a)\n",
    "\n",
    "S = 1000  # Number of simulations per n value\n",
    "n_values = [10, 100, 1000, 10000]\n",
    "beta1 = 2\n",
    "\n",
    "# Placeholder for simulation results\n",
    "simulation_data = {n: [] for n in n_values}\n",
    "\n",
    "for n in n_values:\n",
    "    beta2 = 3 * np.sqrt(n)\n",
    "    for s in range(S):\n",
    "        y, x1, x2 = generate_simulation_data(n, beta1, beta2)\n",
    "        simulation_data[n].append((y, x1, x2))\n"
   ]
  },
  {
   "cell_type": "code",
   "execution_count": 32,
   "metadata": {},
   "outputs": [],
   "source": [
    "# 3.(b)\n",
    "\n",
    "# Placeholder for estimator results\n",
    "estimator_results = {n: {'unrestricted': [], 'restricted': [], 'pretest': []} for n in n_values}\n",
    "\n",
    "for n in n_values:\n",
    "    for s in range(S):\n",
    "        # Extract y, x1, and x2 from simulation results\n",
    "        y, x1, x2 = simulation_data[n][s]\n",
    "        \n",
    "        # Compute the estimators for the current dataset\n",
    "        estimates = estimate_coefficients(y, x1, x2)\n",
    "        \n",
    "        # Store the results\n",
    "        estimator_results[n]['unrestricted'].append(estimates['unrestricted'])\n",
    "        estimator_results[n]['restricted'].append(estimates['restricted'])\n",
    "        estimator_results[n]['pretest'].append(estimates['pretest'])\n"
   ]
  },
  {
   "cell_type": "code",
   "execution_count": 39,
   "metadata": {},
   "outputs": [
    {
     "name": "stdout",
     "output_type": "stream",
     "text": [
      "        n        Method  Mean of Beta1  Variance of Beta1\n",
      "0      10  unrestricted       1.931861          18.162193\n",
      "1      10    restricted      11.366193           0.257339\n",
      "2      10       pretest       4.774116          39.039461\n",
      "3     100  unrestricted       2.009798           1.030558\n",
      "4     100    restricted      31.685454           0.103970\n",
      "5     100       pretest       2.009798           1.030558\n",
      "6    1000  unrestricted       2.000075           0.100508\n",
      "7    1000    restricted      95.918828           0.092784\n",
      "8    1000       pretest       2.000075           0.100508\n",
      "9   10000  unrestricted       1.999880           0.008628\n",
      "10  10000    restricted     299.028230           0.084317\n",
      "11  10000       pretest       1.999880           0.008628\n"
     ]
    }
   ],
   "source": [
    "# 4.(a)\n",
    "\n",
    "# Initialize lists to store summary statistics\n",
    "summary_stats = []\n",
    "\n",
    "# Iterate over each n to calculate mean and variance for each estimator\n",
    "for n in n_values:\n",
    "    for method in ['unrestricted', 'restricted', 'pretest']:\n",
    "        estimates = [est['beta1'] for est in estimator_results[n][method]]\n",
    "        std_errors = [est['std_err'] for est in estimator_results[n][method]]\n",
    "\n",
    "        # Calculate mean and variance of beta1 estimates\n",
    "        mean_beta1 = np.mean(estimates)\n",
    "        variance_beta1 = np.var(estimates)\n",
    "        \n",
    "        # Append summary statistics\n",
    "        summary_stats.append({\n",
    "            'n': n,\n",
    "            'Method': method,\n",
    "            'Mean of Beta1': mean_beta1,\n",
    "            'Variance of Beta1': variance_beta1\n",
    "        })\n",
    "\n",
    "# Convert summary statistics to a DataFrame for easy visualization\n",
    "summary_df = pd.DataFrame(summary_stats)\n",
    "\n",
    "print(summary_df)\n"
   ]
  },
  {
   "cell_type": "markdown",
   "metadata": {},
   "source": [
    "We see that the mean of $\\beta_1$ for the unrestricted model is very accurate (because we include everything in the model), adn the variance of this estimate decreases as $n$ increases.\n",
    "\n",
    "We also see that the mean of $\\beta_1$ for the restricted model increases dramatically, because as $n$ increases, our true $\\beta_2$ increases (by our definition), and the $\\beta_1$ estimate captures this."
   ]
  },
  {
   "cell_type": "code",
   "execution_count": 42,
   "metadata": {},
   "outputs": [
    {
     "name": "stdout",
     "output_type": "stream",
     "text": [
      "       n  Fraction Correct\n",
      "0     10             0.575\n",
      "1    100             1.000\n",
      "2   1000             1.000\n",
      "3  10000             1.000\n"
     ]
    }
   ],
   "source": [
    "# 4.(b)\n",
    "\n",
    "# Initialize a list to store model selection frequencies\n",
    "model_selection_stats = []\n",
    "\n",
    "# Iterate over each n to calculate the frequency of correct model selection\n",
    "for n in n_values:\n",
    "    selected_correct_model = [1 for est in estimator_results[n]['pretest'] if est['model_selected'] == 'unrestricted']\n",
    "    fraction_correct = sum(selected_correct_model) / S\n",
    "    model_selection_stats.append({'n': n, 'Fraction Correct': fraction_correct})\n",
    "\n",
    "# Convert to DataFrame and print\n",
    "model_selection_df = pd.DataFrame(model_selection_stats)\n",
    "print(model_selection_df)\n"
   ]
  },
  {
   "cell_type": "markdown",
   "metadata": {},
   "source": [
    "As $n$ gets larger, the fraction that the pretest selects the unrestricted true model gets larger as well. This is also because how we define $\\beta_2$, it gets larger as $n$ gets larger.\n",
    "The p-value for the significance for $\\beta_2$ probably increases as $n$ gets larger, meaning that the pretest will select the unrestricted true model more often. "
   ]
  },
  {
   "cell_type": "code",
   "execution_count": 43,
   "metadata": {},
   "outputs": [
    {
     "name": "stdout",
     "output_type": "stream",
     "text": [
      "        n        Method  CI Coverage  Average CI Length\n",
      "0      10  unrestricted        0.947          18.013109\n",
      "1      10    restricted        0.000           2.228009\n",
      "2      10       pretest        0.545           9.414855\n",
      "3     100  unrestricted        0.951           4.044289\n",
      "4     100    restricted        0.000           1.249668\n",
      "5     100       pretest        0.951           4.044289\n",
      "6    1000  unrestricted        0.947           1.243827\n",
      "7    1000    restricted        0.000           1.172165\n",
      "8    1000       pretest        0.947           1.243827\n",
      "9   10000  unrestricted        0.966           0.392130\n",
      "10  10000    restricted        0.000           1.165308\n",
      "11  10000       pretest        0.966           0.392130\n"
     ]
    }
   ],
   "source": [
    "# True value of beta1\n",
    "true_beta1 = 2\n",
    "\n",
    "# Initialize list to store CI coverage and length stats\n",
    "ci_stats = []\n",
    "\n",
    "for n in n_values:\n",
    "    for method in ['unrestricted', 'restricted', 'pretest']:\n",
    "        estimates = estimator_results[n][method]\n",
    "        # Calculate CI coverage and average length (using 0.05 CI directly from statsmodels)\n",
    "        ci_coverages = [(true_beta1 >= est['ci'][0]) and (true_beta1 <= est['ci'][1]) for est in estimates]\n",
    "        ci_lengths = [est['ci'][1] - est['ci'][0] for est in estimates]\n",
    "        \n",
    "        ci_stats.append({\n",
    "            'n': n,\n",
    "            'Method': method,\n",
    "            'CI Coverage': sum(ci_coverages) / S,\n",
    "            'Average CI Length': np.mean(ci_lengths)\n",
    "        })\n",
    "\n",
    "ci_stats_df = pd.DataFrame(ci_stats)\n",
    "print(ci_stats_df)"
   ]
  },
  {
   "cell_type": "markdown",
   "metadata": {},
   "source": [
    "The results are that the unrestricted model CI includes the true value of beta around 95% of the time, while the restricted model CI never includes the true value of beta. As we saw earlier, the pretest always seems to select the unrestricted model when $n \\in \\{100, 1000, 10000\\}$, and selects the restricted model about half the time when $n = 10$.\n",
    "\n",
    "This is consistent with what we would expect. Because $x_1$ is extremely correlated with $x_2$, not including it in the model leads to very bad estimates of $\\beta_1$ (restricted model)."
   ]
  }
 ],
 "metadata": {
  "kernelspec": {
   "display_name": ".venv",
   "language": "python",
   "name": "python3"
  },
  "language_info": {
   "codemirror_mode": {
    "name": "ipython",
    "version": 3
   },
   "file_extension": ".py",
   "mimetype": "text/x-python",
   "name": "python",
   "nbconvert_exporter": "python",
   "pygments_lexer": "ipython3",
   "version": "3.12.2"
  }
 },
 "nbformat": 4,
 "nbformat_minor": 2
}
